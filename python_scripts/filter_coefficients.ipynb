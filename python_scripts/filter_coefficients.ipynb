{
 "cells": [
  {
   "cell_type": "code",
   "execution_count": 21,
   "id": "d36fc304",
   "metadata": {},
   "outputs": [],
   "source": [
    "from scipy.signal import butter\n",
    "import numpy as np\n",
    "\n",
    "def butterworth_bandpass(fs, low_cutoff, high_cutoff):\n",
    "    \"\"\"\n",
    "    Generate filter coefficients for a 2nd order Butterworth bandpass filter.\n",
    "\n",
    "    Parameters:\n",
    "        fs (float): Sampling frequency in Hz.\n",
    "        low_cutoff (float): Low cutoff frequency in Hz.\n",
    "        high_cutoff (float): High cutoff frequency in Hz.\n",
    "\n",
    "    Returns:\n",
    "        tuple: Filter coefficients (b, a).\n",
    "    \"\"\"\n",
    "    nyquist = 0.5 * fs\n",
    "    low = low_cutoff / nyquist\n",
    "    high = high_cutoff / nyquist\n",
    "    b, a = butter(N=4, Wn=[low, high], btype='band')\n",
    "    return b, a"
   ]
  },
  {
   "cell_type": "code",
   "execution_count": 32,
   "id": "f7392945",
   "metadata": {},
   "outputs": [
    {
     "name": "stdout",
     "output_type": "stream",
     "text": [
      "b: [3.0449114368910954e-06, 0.0, -1.2179645747564382e-05, 0.0, 1.8269468621346573e-05, 0.0, -1.2179645747564382e-05, 0.0, 3.0449114368910954e-06] ,\n",
      "a: [1.0, -7.763667588569699, 26.384525726395264, -51.2662997663994, 62.29224366537488, -48.468114666714555, 23.58301347523423, -6.560640012022943, 0.7989391667826891]\n"
     ]
    }
   ],
   "source": [
    "b, a = butterworth_bandpass(30, 0.13, 0.54)\n",
    "print(\"b:\", list(b), \",\")\n",
    "print(\"a:\", list(a))"
   ]
  },
  {
   "cell_type": "markdown",
   "id": "722dd4e1",
   "metadata": {},
   "source": [
    "const b = [0.05644846, 0, -0.11289692, 0, 0.05644846];\n",
    "const a = [1, -3.08180606, 3.66799523, -2.03138523, 0.45044543];"
   ]
  },
  {
   "cell_type": "code",
   "execution_count": 3,
   "id": "204061d9",
   "metadata": {},
   "outputs": [],
   "source": [
    "import numpy as np\n",
    "\n",
    "def design_butterworth(low_cutoff, high_cutoff, fs):\n",
    "    \"\"\"\n",
    "    Design a Butterworth filter and calculate its coefficients.\n",
    "\n",
    "    Parameters:\n",
    "        low_cutoff (float): Low cutoff frequency in Hz.\n",
    "        high_cutoff (float): High cutoff frequency in Hz.\n",
    "        fs (float): Sampling frequency in Hz.\n",
    "\n",
    "    Returns:\n",
    "        tuple: Filter coefficients (b, a).\n",
    "    \"\"\"\n",
    "    # Normalize frequencies to Nyquist frequency\n",
    "    nyquist = fs / 2\n",
    "    w_low = np.tan((np.pi * low_cutoff) / nyquist)\n",
    "    w_high = np.tan((np.pi * high_cutoff) / nyquist)\n",
    "\n",
    "    # Calculate filter coefficients\n",
    "    K = 1 / (w_high - w_low)\n",
    "\n",
    "    # Second-order section coefficients\n",
    "    b0 = K * (w_high - w_low)\n",
    "    b1 = 0\n",
    "    b2 = -b0\n",
    "\n",
    "    a0 = 1 + K * (w_high - w_low) + (w_high * w_low * K * K)\n",
    "    a1 = 2 * (w_high * w_low * K * K - 1)\n",
    "    a2 = 1 - K * (w_high - w_low) + (w_high * w_low * K * K)\n",
    "\n",
    "    # Normalize coefficients\n",
    "    b = [b0 / a0, b1 / a0, b2 / a0]\n",
    "    a = [1, a1 / a0, a2 / a0]\n",
    "\n",
    "    return b, a"
   ]
  },
  {
   "cell_type": "code",
   "execution_count": 4,
   "id": "ab964a3b",
   "metadata": {},
   "outputs": [
    {
     "name": "stdout",
     "output_type": "stream",
     "text": [
      "b: [0.38640105594687735, 0.0, -0.38640105594687735]\n",
      "a: [1, -0.31840633568126425, 0.22719788810624522]\n"
     ]
    }
   ],
   "source": [
    "b, a = design_butterworth(30, 0.6, 3.3)\n",
    "print(\"b:\", b)\n",
    "print(\"a:\", a)"
   ]
  },
  {
   "cell_type": "code",
   "execution_count": null,
   "id": "c2171470",
   "metadata": {
    "vscode": {
     "languageId": "javascript"
    }
   },
   "outputs": [],
   "source": [
    "function lfilter(b, a, x) {\n",
    "    /**\n",
    "     * Apply a digital filter to a signal using the given coefficients.\n",
    "     *\n",
    "     * Parameters:\n",
    "     *   b (Array): Numerator coefficients of the filter.\n",
    "     *   a (Array): Denominator coefficients of the filter.\n",
    "     *   x (Array): Input signal to be filtered.\n",
    "     *\n",
    "     * Returns:\n",
    "     *   Array: Filtered signal.\n",
    "     */\n",
    "    const y = new Array(x.length).fill(0);\n",
    "\n",
    "    for (let i = 0; i < x.length; i++) {\n",
    "        // Apply the numerator coefficients\n",
    "        for (let j = 0; j < b.length; j++) {\n",
    "            if (i - j >= 0) {\n",
    "                y[i] += b[j] * x[i - j];\n",
    "            }\n",
    "        }\n",
    "\n",
    "        // Apply the denominator coefficients\n",
    "        for (let j = 1; j < a.length; j++) {\n",
    "            if (i - j >= 0) {\n",
    "                y[i] -= a[j] * y[i - j];\n",
    "            }\n",
    "        }\n",
    "\n",
    "        // Normalize by a[0] if it's not 1\n",
    "        if (a[0] !== 1) {\n",
    "            y[i] /= a[0];\n",
    "        }\n",
    "    }\n",
    "\n",
    "    return y;\n",
    "}\n",
    "\n",
    "// Example usage\n",
    "const b = [0.22512267, 0, -0.22512267];\n",
    "const a = [1, -1.48110367, 0.54975465];\n",
    "const signal = [1, 2, 3, 4, 5, 6, 7, 8, 9, 10]; // Example input signal\n",
    "\n",
    "const filteredSignal = lfilter(b, a, signal);\n",
    "console.log(filteredSignal);"
   ]
  },
  {
   "cell_type": "code",
   "execution_count": null,
   "id": "3d887fa9",
   "metadata": {
    "vscode": {
     "languageId": "javascript"
    }
   },
   "outputs": [],
   "source": [
    "/**\n",
    " * JavaScript implementation of lfilter for 2nd order Butterworth bandpass filter\n",
    " * Designed to handle higher-order filter coefficients\n",
    " */\n",
    "function lfilter(b, a, x) {\n",
    "    /**\n",
    "     * Apply a digital filter to a signal using the given coefficients.\n",
    "     *\n",
    "     * Parameters:\n",
    "     *   b (Array): Numerator coefficients of the filter.\n",
    "     *   a (Array): Denominator coefficients of the filter.\n",
    "     *   x (Array): Input signal to be filtered.\n",
    "     *\n",
    "     * Returns:\n",
    "     *   Array: Filtered signal.\n",
    "     */\n",
    "    const y = new Array(x.length).fill(0);\n",
    "    \n",
    "    // If a[0] is not 1, normalize both a and b coefficients\n",
    "    if (a[0] !== 1) {\n",
    "        const a0 = a[0];\n",
    "        for (let i = 0; i < b.length; i++) b[i] /= a0;\n",
    "        for (let i = 0; i < a.length; i++) a[i] /= a0;\n",
    "    }\n",
    "    \n",
    "    for (let i = 0; i < x.length; i++) {\n",
    "        // Apply the numerator coefficients (b terms)\n",
    "        for (let j = 0; j < b.length; j++) {\n",
    "            if (i - j >= 0) {\n",
    "                y[i] += b[j] * x[i - j];\n",
    "            }\n",
    "        }\n",
    "        \n",
    "        // Apply the denominator coefficients (a terms)\n",
    "        for (let j = 1; j < a.length; j++) {\n",
    "            if (i - j >= 0) {\n",
    "                y[i] -= a[j] * y[i - j];\n",
    "            }\n",
    "        }\n",
    "    }\n",
    "    \n",
    "    return y;\n",
    "}\n",
    "\n",
    "// Example usage with the 2nd order Butterworth bandpass filter coefficients\n",
    "const b = [0.05644846, 0, -0.11289692, 0, 0.05644846];\n",
    "const a = [1, -3.08180606, 3.66799523, -2.03138523, 0.45044543];\n",
    "\n",
    "// Generate a sample signal (e.g., a simple sine wave)\n",
    "const sampleRate = 100; // Hz\n",
    "const duration = 1;     // seconds\n",
    "const frequency = 2;    // Hz\n",
    "const signal = [];\n",
    "\n",
    "for (let i = 0; i < sampleRate * duration; i++) {\n",
    "    signal.push(Math.sin(2 * Math.PI * frequency * i / sampleRate));\n",
    "}\n",
    "\n",
    "// Apply the filter\n",
    "const filteredSignal = lfilter(b, a, signal);\n",
    "\n",
    "// Show results\n",
    "console.log('First 10 values of the original signal:', signal.slice(0, 10));\n",
    "console.log('First 10 values of the filtered signal:', filteredSignal.slice(0, 10));"
   ]
  },
  {
   "cell_type": "code",
   "execution_count": null,
   "id": "cd0a37e7",
   "metadata": {},
   "outputs": [],
   "source": []
  }
 ],
 "metadata": {
  "kernelspec": {
   "display_name": "dev",
   "language": "python",
   "name": "python3"
  },
  "language_info": {
   "codemirror_mode": {
    "name": "ipython",
    "version": 3
   },
   "file_extension": ".py",
   "mimetype": "text/x-python",
   "name": "python",
   "nbconvert_exporter": "python",
   "pygments_lexer": "ipython3",
   "version": "3.11.4"
  }
 },
 "nbformat": 4,
 "nbformat_minor": 5
}
